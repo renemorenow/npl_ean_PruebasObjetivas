{
 "cells": [
  {
   "cell_type": "markdown",
   "metadata": {},
   "source": [
    "# Pruebas Objetivas\n",
    "## Estudiantes:\n",
    " * Andersson Camilo Ordoñez Ruiz\n",
    " * Héctor Manuel Muñoz Beltrán\n",
    " * William Rene Moreno Romero"
   ]
  },
  {
   "cell_type": "markdown",
   "metadata": {},
   "source": [
    "## Actividad 1: Preprocesamiento y Tokenización"
   ]
  },
  {
   "cell_type": "markdown",
   "metadata": {},
   "source": [
    "### Librerías"
   ]
  },
  {
   "cell_type": "code",
   "execution_count": 1,
   "metadata": {},
   "outputs": [
    {
     "name": "stderr",
     "output_type": "stream",
     "text": [
      "[nltk_data] Downloading package punkt to\n",
      "[nltk_data]     C:\\Users\\wmoreno\\AppData\\Roaming\\nltk_data...\n",
      "[nltk_data]   Package punkt is already up-to-date!\n",
      "[nltk_data] Downloading package stopwords to\n",
      "[nltk_data]     C:\\Users\\wmoreno\\AppData\\Roaming\\nltk_data...\n",
      "[nltk_data]   Package stopwords is already up-to-date!\n"
     ]
    },
    {
     "data": {
      "text/plain": [
       "True"
      ]
     },
     "execution_count": 1,
     "metadata": {},
     "output_type": "execute_result"
    }
   ],
   "source": [
    "import nltk\n",
    "nltk.download('punkt')\n",
    "nltk.download('stopwords')"
   ]
  },
  {
   "cell_type": "code",
   "execution_count": 2,
   "metadata": {},
   "outputs": [
    {
     "name": "stderr",
     "output_type": "stream",
     "text": [
      "[nltk_data] Downloading package punkt to\n",
      "[nltk_data]     C:\\Users\\wmoreno\\AppData\\Roaming\\nltk_data...\n",
      "[nltk_data]   Package punkt is already up-to-date!\n",
      "[nltk_data] Downloading package stopwords to\n",
      "[nltk_data]     C:\\Users\\wmoreno\\AppData\\Roaming\\nltk_data...\n",
      "[nltk_data]   Package stopwords is already up-to-date!\n"
     ]
    },
    {
     "data": {
      "text/html": [
       "<div>\n",
       "<style scoped>\n",
       "    .dataframe tbody tr th:only-of-type {\n",
       "        vertical-align: middle;\n",
       "    }\n",
       "\n",
       "    .dataframe tbody tr th {\n",
       "        vertical-align: top;\n",
       "    }\n",
       "\n",
       "    .dataframe thead th {\n",
       "        text-align: right;\n",
       "    }\n",
       "</style>\n",
       "<table border=\"1\" class=\"dataframe\">\n",
       "  <thead>\n",
       "    <tr style=\"text-align: right;\">\n",
       "      <th></th>\n",
       "      <th>Columna1</th>\n",
       "      <th>Enlaces</th>\n",
       "      <th>Título</th>\n",
       "      <th>info</th>\n",
       "      <th>contenido</th>\n",
       "      <th>Etiqueta</th>\n",
       "    </tr>\n",
       "  </thead>\n",
       "  <tbody>\n",
       "    <tr>\n",
       "      <th>0</th>\n",
       "      <td>0</td>\n",
       "      <td>https://www.eltiempo.com/agresion-contra-un-op...</td>\n",
       "      <td>Operador de grúa quedó inconsciente tras agres...</td>\n",
       "      <td>El conductor de una moto le lanzó el casco y p...</td>\n",
       "      <td>Las autoridades están buscando al conductor de...</td>\n",
       "      <td>colombia</td>\n",
       "    </tr>\n",
       "    <tr>\n",
       "      <th>1</th>\n",
       "      <td>1</td>\n",
       "      <td>https://www.eltiempo.com/archivo/documento/CMS...</td>\n",
       "      <td>Usaquén, primera en infracciones por mal parqueo</td>\n",
       "      <td>La localidad ocupa el primer lugar en comparen...</td>\n",
       "      <td>\"Los andenes son para los peatones\", reclama e...</td>\n",
       "      <td>archivo</td>\n",
       "    </tr>\n",
       "    <tr>\n",
       "      <th>2</th>\n",
       "      <td>2</td>\n",
       "      <td>https://www.eltiempo.com/archivo/documento/CMS...</td>\n",
       "      <td>'Me atracaron y vi un arma que me heló la sang...</td>\n",
       "      <td>Un ciudadano relata cómo cuatro hombres lo rob...</td>\n",
       "      <td>A las 7 de la noche me había quedado de encont...</td>\n",
       "      <td>archivo</td>\n",
       "    </tr>\n",
       "    <tr>\n",
       "      <th>3</th>\n",
       "      <td>3</td>\n",
       "      <td>https://www.eltiempo.com/archivo/documento/CMS...</td>\n",
       "      <td>Escoltas mal estacionados, dolor de cabeza de ...</td>\n",
       "      <td>Las zonas de restaurantes se convierten en par...</td>\n",
       "      <td>Atravesados. Eso es lo que se les pasa por la ...</td>\n",
       "      <td>archivo</td>\n",
       "    </tr>\n",
       "    <tr>\n",
       "      <th>4</th>\n",
       "      <td>4</td>\n",
       "      <td>https://www.eltiempo.com/archivo/documento/CMS...</td>\n",
       "      <td>Radicado primer proyecto que autorizaría union...</td>\n",
       "      <td>El representante de 'la U', Miguel Gómez, dijo...</td>\n",
       "      <td>“Estamos proponiendo la figura de un contrato ...</td>\n",
       "      <td>archivo</td>\n",
       "    </tr>\n",
       "  </tbody>\n",
       "</table>\n",
       "</div>"
      ],
      "text/plain": [
       "   Columna1                                            Enlaces  \\\n",
       "0         0  https://www.eltiempo.com/agresion-contra-un-op...   \n",
       "1         1  https://www.eltiempo.com/archivo/documento/CMS...   \n",
       "2         2  https://www.eltiempo.com/archivo/documento/CMS...   \n",
       "3         3  https://www.eltiempo.com/archivo/documento/CMS...   \n",
       "4         4  https://www.eltiempo.com/archivo/documento/CMS...   \n",
       "\n",
       "                                              Título  \\\n",
       "0  Operador de grúa quedó inconsciente tras agres...   \n",
       "1   Usaquén, primera en infracciones por mal parqueo   \n",
       "2  'Me atracaron y vi un arma que me heló la sang...   \n",
       "3  Escoltas mal estacionados, dolor de cabeza de ...   \n",
       "4  Radicado primer proyecto que autorizaría union...   \n",
       "\n",
       "                                                info  \\\n",
       "0  El conductor de una moto le lanzó el casco y p...   \n",
       "1  La localidad ocupa el primer lugar en comparen...   \n",
       "2  Un ciudadano relata cómo cuatro hombres lo rob...   \n",
       "3  Las zonas de restaurantes se convierten en par...   \n",
       "4  El representante de 'la U', Miguel Gómez, dijo...   \n",
       "\n",
       "                                           contenido  Etiqueta  \n",
       "0  Las autoridades están buscando al conductor de...  colombia  \n",
       "1  \"Los andenes son para los peatones\", reclama e...   archivo  \n",
       "2  A las 7 de la noche me había quedado de encont...   archivo  \n",
       "3  Atravesados. Eso es lo que se les pasa por la ...   archivo  \n",
       "4  “Estamos proponiendo la figura de un contrato ...   archivo  "
      ]
     },
     "execution_count": 2,
     "metadata": {},
     "output_type": "execute_result"
    }
   ],
   "source": [
    "# Importar las bibliotecas necesarias\n",
    "import pandas as pd\n",
    "import nltk\n",
    "from nltk.tokenize import word_tokenize\n",
    "import string\n",
    "import re\n",
    "from sklearn.feature_extraction.text import TfidfVectorizer\n",
    "from gensim.models import Word2Vec\n",
    "\n",
    "# Descargar recursos de NLTK\n",
    "nltk.download('punkt')\n",
    "nltk.download('stopwords')\n",
    "from nltk.corpus import stopwords\n",
    "\n",
    "# Cargar el archivo de datos\n",
    "file_path = '../../Datos/Datos Crudos/Noticias.xlsx'\n",
    "data = pd.read_excel(file_path)\n",
    "\n",
    "# Mostrar una vista previa de los datos\n",
    "data.head()"
   ]
  },
  {
   "cell_type": "markdown",
   "metadata": {},
   "source": [
    "### Paso 1: Preprocesamiento del Texto\n",
    "En este paso, transformaremos el texto a minúsculas, eliminaremos la puntuación, los números y los espacios en blanco adicionales."
   ]
  },
  {
   "cell_type": "code",
   "execution_count": 3,
   "metadata": {},
   "outputs": [
    {
     "data": {
      "text/html": [
       "<div>\n",
       "<style scoped>\n",
       "    .dataframe tbody tr th:only-of-type {\n",
       "        vertical-align: middle;\n",
       "    }\n",
       "\n",
       "    .dataframe tbody tr th {\n",
       "        vertical-align: top;\n",
       "    }\n",
       "\n",
       "    .dataframe thead th {\n",
       "        text-align: right;\n",
       "    }\n",
       "</style>\n",
       "<table border=\"1\" class=\"dataframe\">\n",
       "  <thead>\n",
       "    <tr style=\"text-align: right;\">\n",
       "      <th></th>\n",
       "      <th>contenido</th>\n",
       "      <th>contenido_preprocesado</th>\n",
       "    </tr>\n",
       "  </thead>\n",
       "  <tbody>\n",
       "    <tr>\n",
       "      <th>0</th>\n",
       "      <td>Las autoridades están buscando al conductor de...</td>\n",
       "      <td>las autoridades están buscando al conductor de...</td>\n",
       "    </tr>\n",
       "    <tr>\n",
       "      <th>1</th>\n",
       "      <td>\"Los andenes son para los peatones\", reclama e...</td>\n",
       "      <td>los andenes son para los peatones reclama enfá...</td>\n",
       "    </tr>\n",
       "    <tr>\n",
       "      <th>2</th>\n",
       "      <td>A las 7 de la noche me había quedado de encont...</td>\n",
       "      <td>a las  de la noche me había quedado de encontr...</td>\n",
       "    </tr>\n",
       "    <tr>\n",
       "      <th>3</th>\n",
       "      <td>Atravesados. Eso es lo que se les pasa por la ...</td>\n",
       "      <td>atravesados eso es lo que se les pasa por la c...</td>\n",
       "    </tr>\n",
       "    <tr>\n",
       "      <th>4</th>\n",
       "      <td>“Estamos proponiendo la figura de un contrato ...</td>\n",
       "      <td>“estamos proponiendo la figura de un contrato ...</td>\n",
       "    </tr>\n",
       "  </tbody>\n",
       "</table>\n",
       "</div>"
      ],
      "text/plain": [
       "                                           contenido  \\\n",
       "0  Las autoridades están buscando al conductor de...   \n",
       "1  \"Los andenes son para los peatones\", reclama e...   \n",
       "2  A las 7 de la noche me había quedado de encont...   \n",
       "3  Atravesados. Eso es lo que se les pasa por la ...   \n",
       "4  “Estamos proponiendo la figura de un contrato ...   \n",
       "\n",
       "                              contenido_preprocesado  \n",
       "0  las autoridades están buscando al conductor de...  \n",
       "1  los andenes son para los peatones reclama enfá...  \n",
       "2  a las  de la noche me había quedado de encontr...  \n",
       "3  atravesados eso es lo que se les pasa por la c...  \n",
       "4  “estamos proponiendo la figura de un contrato ...  "
      ]
     },
     "metadata": {},
     "output_type": "display_data"
    },
    {
     "name": "stdout",
     "output_type": "stream",
     "text": [
      "Dimensiones de los datos: (13738, 7)\n"
     ]
    }
   ],
   "source": [
    "# Función para preprocesar texto\n",
    "def preprocess_text(text):\n",
    "    \"\"\"\n",
    "    Esta función realiza el preprocesamiento del texto.\n",
    "    1. Convierte el texto a minúsculas.\n",
    "    2. Elimina la puntuación.\n",
    "    3. Elimina los números.\n",
    "    4. Elimina los espacios en blanco adicionales.\n",
    "\n",
    "    Parámetros:\n",
    "    text (str): El texto original.\n",
    "\n",
    "    Retorna:\n",
    "    str: El texto preprocesado.\n",
    "    \"\"\"\n",
    "    # Convertir a minúsculas\n",
    "    text = text.lower()\n",
    "    # Eliminar puntuación\n",
    "    text = text.translate(str.maketrans('', '', string.punctuation))\n",
    "    # Eliminar números\n",
    "    text = re.sub(r'\\d+', '', text)\n",
    "    # Eliminar espacios en blanco adicionales\n",
    "    text = text.strip()\n",
    "    return text\n",
    "\n",
    "# Aplicar preprocesamiento al contenido\n",
    "## Deben eliminarse los valores nulos antes de aplicar el preprocesamiento\n",
    "data = data.dropna(subset=['contenido'])\n",
    "\n",
    "# Aplicar preprocesamiento al contenido\n",
    "data['contenido_preprocesado'] = data['contenido'].apply(preprocess_text)\n",
    "\n",
    "# Mostrar una vista previa de los datos preprocesados\n",
    "display(data[['contenido', 'contenido_preprocesado']].head())\n",
    "\n",
    "# Dimensiones de los datos\n",
    "\n",
    "print(f'Dimensiones de los datos: {data.shape}')"
   ]
  },
  {
   "cell_type": "markdown",
   "metadata": {},
   "source": [
    "### Paso 2: Tokenización\n",
    "En este paso, convertiremos el texto preprocesado en una lista de palabras individuales utilizando la tokenización."
   ]
  },
  {
   "cell_type": "code",
   "execution_count": 4,
   "metadata": {},
   "outputs": [
    {
     "data": {
      "text/html": [
       "<div>\n",
       "<style scoped>\n",
       "    .dataframe tbody tr th:only-of-type {\n",
       "        vertical-align: middle;\n",
       "    }\n",
       "\n",
       "    .dataframe tbody tr th {\n",
       "        vertical-align: top;\n",
       "    }\n",
       "\n",
       "    .dataframe thead th {\n",
       "        text-align: right;\n",
       "    }\n",
       "</style>\n",
       "<table border=\"1\" class=\"dataframe\">\n",
       "  <thead>\n",
       "    <tr style=\"text-align: right;\">\n",
       "      <th></th>\n",
       "      <th>contenido_preprocesado</th>\n",
       "      <th>tokens</th>\n",
       "    </tr>\n",
       "  </thead>\n",
       "  <tbody>\n",
       "    <tr>\n",
       "      <th>0</th>\n",
       "      <td>las autoridades están buscando al conductor de...</td>\n",
       "      <td>[las, autoridades, están, buscando, al, conduc...</td>\n",
       "    </tr>\n",
       "    <tr>\n",
       "      <th>1</th>\n",
       "      <td>los andenes son para los peatones reclama enfá...</td>\n",
       "      <td>[los, andenes, son, para, los, peatones, recla...</td>\n",
       "    </tr>\n",
       "    <tr>\n",
       "      <th>2</th>\n",
       "      <td>a las  de la noche me había quedado de encontr...</td>\n",
       "      <td>[a, las, de, la, noche, me, había, quedado, de...</td>\n",
       "    </tr>\n",
       "    <tr>\n",
       "      <th>3</th>\n",
       "      <td>atravesados eso es lo que se les pasa por la c...</td>\n",
       "      <td>[atravesados, eso, es, lo, que, se, les, pasa,...</td>\n",
       "    </tr>\n",
       "    <tr>\n",
       "      <th>4</th>\n",
       "      <td>“estamos proponiendo la figura de un contrato ...</td>\n",
       "      <td>[“, estamos, proponiendo, la, figura, de, un, ...</td>\n",
       "    </tr>\n",
       "  </tbody>\n",
       "</table>\n",
       "</div>"
      ],
      "text/plain": [
       "                              contenido_preprocesado  \\\n",
       "0  las autoridades están buscando al conductor de...   \n",
       "1  los andenes son para los peatones reclama enfá...   \n",
       "2  a las  de la noche me había quedado de encontr...   \n",
       "3  atravesados eso es lo que se les pasa por la c...   \n",
       "4  “estamos proponiendo la figura de un contrato ...   \n",
       "\n",
       "                                              tokens  \n",
       "0  [las, autoridades, están, buscando, al, conduc...  \n",
       "1  [los, andenes, son, para, los, peatones, recla...  \n",
       "2  [a, las, de, la, noche, me, había, quedado, de...  \n",
       "3  [atravesados, eso, es, lo, que, se, les, pasa,...  \n",
       "4  [“, estamos, proponiendo, la, figura, de, un, ...  "
      ]
     },
     "execution_count": 4,
     "metadata": {},
     "output_type": "execute_result"
    }
   ],
   "source": [
    "# Tokenización\n",
    "data['tokens'] = data['contenido_preprocesado'].apply(word_tokenize)\n",
    "\n",
    "# Mostrar una vista previa de los tokens\n",
    "data[['contenido_preprocesado', 'tokens']].head()"
   ]
  },
  {
   "cell_type": "code",
   "execution_count": 5,
   "metadata": {},
   "outputs": [
    {
     "name": "stdout",
     "output_type": "stream",
     "text": [
      "Contenido preprocesado:  las autoridades están buscando al conductor de una moto que le lanzó el casco a carlos alberto carmona operador de grúa de la empresa segrup  quien perdió por una hora el conocimiento tras la agresión en un video quedó registrado el momento en el que tanto el trabajador de la empresa como el motociclista se encuentran discutiendo cerca de la avenida villavicencio con gaitán cortés en el acalorado encuentro verbal ambos amagan con golpearse con los objetos que tienen en sus manos entonces el conductor de la moto arroja su casco contra el operador el hombre recibe el impacto en su cara por lo que s e desgonza y en la caída se golpea la cabeza con la grúa que conduce  el agredido perdió el conocimiento por cerca de una hora en ese instante el agresor se retira caminando del lugar y en repetidas ocasiones mira para atrás en donde está el operador en el suelo luego su compañero agarra la moto y huye del lugar y a pocos metros recoge al agresor las autoridades buscan al hombre que conducía la moto jto c marca pulsar color verde para que responda por la agresión que le generó al trabajador de  años de edad hacias las  de la mañana de este sábado la secretaría de movilidad a través de su cuenta de twitter rechazó este hecho mientras que la empresa operadora instaurará una denuncia penal por este hecho para que se realice una investigación bogotá valle del cauca  pm se han recogido cerca de  mil mercados en donatón valle solidario la meta es llegar a  mil mercados personas del común y empresas se  coronavirus en colombia  pm cuarentena en medellín el diario de lo que pasa en la ciudad el miércoles  de marzo comenzó el aislamiento obligatorio para evita  gabriel garcía márquez  pm falleció el mago dávila primer linotipista que tuvo garcía márquez barranquilla  pm alias el satánico busca la libertad por vencimiento de términos santander  pm hombre murió en un parque sin saber que estaba contagiado de covid\n",
      "Tokens:  ['las', 'autoridades', 'están', 'buscando', 'al', 'conductor', 'de', 'una', 'moto', 'que', 'le', 'lanzó', 'el', 'casco', 'a', 'carlos', 'alberto', 'carmona', 'operador', 'de', 'grúa', 'de', 'la', 'empresa', 'segrup', 'quien', 'perdió', 'por', 'una', 'hora', 'el', 'conocimiento', 'tras', 'la', 'agresión', 'en', 'un', 'video', 'quedó', 'registrado', 'el', 'momento', 'en', 'el', 'que', 'tanto', 'el', 'trabajador', 'de', 'la', 'empresa', 'como', 'el', 'motociclista', 'se', 'encuentran', 'discutiendo', 'cerca', 'de', 'la', 'avenida', 'villavicencio', 'con', 'gaitán', 'cortés', 'en', 'el', 'acalorado', 'encuentro', 'verbal', 'ambos', 'amagan', 'con', 'golpearse', 'con', 'los', 'objetos', 'que', 'tienen', 'en', 'sus', 'manos', 'entonces', 'el', 'conductor', 'de', 'la', 'moto', 'arroja', 'su', 'casco', 'contra', 'el', 'operador', 'el', 'hombre', 'recibe', 'el', 'impacto', 'en', 'su', 'cara', 'por', 'lo', 'que', 's', 'e', 'desgonza', 'y', 'en', 'la', 'caída', 'se', 'golpea', 'la', 'cabeza', 'con', 'la', 'grúa', 'que', 'conduce', 'el', 'agredido', 'perdió', 'el', 'conocimiento', 'por', 'cerca', 'de', 'una', 'hora', 'en', 'ese', 'instante', 'el', 'agresor', 'se', 'retira', 'caminando', 'del', 'lugar', 'y', 'en', 'repetidas', 'ocasiones', 'mira', 'para', 'atrás', 'en', 'donde', 'está', 'el', 'operador', 'en', 'el', 'suelo', 'luego', 'su', 'compañero', 'agarra', 'la', 'moto', 'y', 'huye', 'del', 'lugar', 'y', 'a', 'pocos', 'metros', 'recoge', 'al', 'agresor', 'las', 'autoridades', 'buscan', 'al', 'hombre', 'que', 'conducía', 'la', 'moto', 'jto', 'c', 'marca', 'pulsar', 'color', 'verde', 'para', 'que', 'responda', 'por', 'la', 'agresión', 'que', 'le', 'generó', 'al', 'trabajador', 'de', 'años', 'de', 'edad', 'hacias', 'las', 'de', 'la', 'mañana', 'de', 'este', 'sábado', 'la', 'secretaría', 'de', 'movilidad', 'a', 'través', 'de', 'su', 'cuenta', 'de', 'twitter', 'rechazó', 'este', 'hecho', 'mientras', 'que', 'la', 'empresa', 'operadora', 'instaurará', 'una', 'denuncia', 'penal', 'por', 'este', 'hecho', 'para', 'que', 'se', 'realice', 'una', 'investigación', 'bogotá', 'valle', 'del', 'cauca', 'pm', 'se', 'han', 'recogido', 'cerca', 'de', 'mil', 'mercados', 'en', 'donatón', 'valle', 'solidario', 'la', 'meta', 'es', 'llegar', 'a', 'mil', 'mercados', 'personas', 'del', 'común', 'y', 'empresas', 'se', 'coronavirus', 'en', 'colombia', 'pm', 'cuarentena', 'en', 'medellín', 'el', 'diario', 'de', 'lo', 'que', 'pasa', 'en', 'la', 'ciudad', 'el', 'miércoles', 'de', 'marzo', 'comenzó', 'el', 'aislamiento', 'obligatorio', 'para', 'evita', 'gabriel', 'garcía', 'márquez', 'pm', 'falleció', 'el', 'mago', 'dávila', 'primer', 'linotipista', 'que', 'tuvo', 'garcía', 'márquez', 'barranquilla', 'pm', 'alias', 'el', 'satánico', 'busca', 'la', 'libertad', 'por', 'vencimiento', 'de', 'términos', 'santander', 'pm', 'hombre', 'murió', 'en', 'un', 'parque', 'sin', 'saber', 'que', 'estaba', 'contagiado', 'de', 'covid']\n"
     ]
    }
   ],
   "source": [
    "## Revise los tokens para asegurarse de que el texto se haya tokenizado correctamente\n",
    "print(\"Contenido preprocesado: \", data['contenido_preprocesado'][0])\n",
    "print(\"Tokens: \", data['tokens'][0])"
   ]
  },
  {
   "cell_type": "markdown",
   "metadata": {},
   "source": [
    "### Paso 3: Eliminación de Stop Words\n",
    "\n",
    "En este paso, eliminaremos las stop words de los tokens generados.\n"
   ]
  },
  {
   "cell_type": "code",
   "execution_count": 6,
   "metadata": {},
   "outputs": [
    {
     "data": {
      "text/html": [
       "<div>\n",
       "<style scoped>\n",
       "    .dataframe tbody tr th:only-of-type {\n",
       "        vertical-align: middle;\n",
       "    }\n",
       "\n",
       "    .dataframe tbody tr th {\n",
       "        vertical-align: top;\n",
       "    }\n",
       "\n",
       "    .dataframe thead th {\n",
       "        text-align: right;\n",
       "    }\n",
       "</style>\n",
       "<table border=\"1\" class=\"dataframe\">\n",
       "  <thead>\n",
       "    <tr style=\"text-align: right;\">\n",
       "      <th></th>\n",
       "      <th>tokens</th>\n",
       "      <th>tokens_sin_stopwords</th>\n",
       "    </tr>\n",
       "  </thead>\n",
       "  <tbody>\n",
       "    <tr>\n",
       "      <th>0</th>\n",
       "      <td>[las, autoridades, están, buscando, al, conduc...</td>\n",
       "      <td>[autoridades, buscando, conductor, moto, lanzó...</td>\n",
       "    </tr>\n",
       "    <tr>\n",
       "      <th>1</th>\n",
       "      <td>[los, andenes, son, para, los, peatones, recla...</td>\n",
       "      <td>[andenes, peatones, reclama, enfática, carmenz...</td>\n",
       "    </tr>\n",
       "    <tr>\n",
       "      <th>2</th>\n",
       "      <td>[a, las, de, la, noche, me, había, quedado, de...</td>\n",
       "      <td>[noche, quedado, encontrar, boris, siempre, si...</td>\n",
       "    </tr>\n",
       "    <tr>\n",
       "      <th>3</th>\n",
       "      <td>[atravesados, eso, es, lo, que, se, les, pasa,...</td>\n",
       "      <td>[atravesados, pasa, cabeza, residentes, transe...</td>\n",
       "    </tr>\n",
       "    <tr>\n",
       "      <th>4</th>\n",
       "      <td>[“, estamos, proponiendo, la, figura, de, un, ...</td>\n",
       "      <td>[“, proponiendo, figura, contrato, civil, unió...</td>\n",
       "    </tr>\n",
       "  </tbody>\n",
       "</table>\n",
       "</div>"
      ],
      "text/plain": [
       "                                              tokens  \\\n",
       "0  [las, autoridades, están, buscando, al, conduc...   \n",
       "1  [los, andenes, son, para, los, peatones, recla...   \n",
       "2  [a, las, de, la, noche, me, había, quedado, de...   \n",
       "3  [atravesados, eso, es, lo, que, se, les, pasa,...   \n",
       "4  [“, estamos, proponiendo, la, figura, de, un, ...   \n",
       "\n",
       "                                tokens_sin_stopwords  \n",
       "0  [autoridades, buscando, conductor, moto, lanzó...  \n",
       "1  [andenes, peatones, reclama, enfática, carmenz...  \n",
       "2  [noche, quedado, encontrar, boris, siempre, si...  \n",
       "3  [atravesados, pasa, cabeza, residentes, transe...  \n",
       "4  [“, proponiendo, figura, contrato, civil, unió...  "
      ]
     },
     "execution_count": 6,
     "metadata": {},
     "output_type": "execute_result"
    }
   ],
   "source": [
    "# Eliminar stop words\n",
    "stop_words = set(stopwords.words('spanish'))\n",
    "data['tokens_sin_stopwords'] = data['tokens'].apply(lambda tokens: [word for word in tokens if word not in stop_words])\n",
    "\n",
    "# Mostrar una vista previa de los tokens sin stop words\n",
    "data[['tokens', 'tokens_sin_stopwords']].head()"
   ]
  },
  {
   "cell_type": "markdown",
   "metadata": {},
   "source": [
    "### Paso 4: Cálculo de TF-IDF\n",
    "\n",
    "En este paso, calcularemos la representación TF-IDF de los textos preprocesados. TF-IDF (Term Frequency-Inverse Document Frequency) es una técnica que pondera la importancia de una palabra en un documento en relación con un corpus.\n"
   ]
  },
  {
   "cell_type": "code",
   "execution_count": 7,
   "metadata": {},
   "outputs": [
    {
     "data": {
      "text/html": [
       "<div>\n",
       "<style scoped>\n",
       "    .dataframe tbody tr th:only-of-type {\n",
       "        vertical-align: middle;\n",
       "    }\n",
       "\n",
       "    .dataframe tbody tr th {\n",
       "        vertical-align: top;\n",
       "    }\n",
       "\n",
       "    .dataframe thead th {\n",
       "        text-align: right;\n",
       "    }\n",
       "</style>\n",
       "<table border=\"1\" class=\"dataframe\">\n",
       "  <thead>\n",
       "    <tr style=\"text-align: right;\">\n",
       "      <th></th>\n",
       "      <th>aa</th>\n",
       "      <th>aaa</th>\n",
       "      <th>aaacpt</th>\n",
       "      <th>aaah</th>\n",
       "      <th>aaas</th>\n",
       "      <th>aac</th>\n",
       "      <th>aacsb</th>\n",
       "      <th>aacta</th>\n",
       "      <th>aademás</th>\n",
       "      <th>aage</th>\n",
       "      <th>...</th>\n",
       "      <th>𝑓𝑖𝑗𝑜𝑠</th>\n",
       "      <th>𝑙𝑎</th>\n",
       "      <th>𝑚𝑎𝑟𝑐𝑜</th>\n",
       "      <th>𝑚𝑖𝑒𝑚𝑏𝑟𝑜𝑠</th>\n",
       "      <th>𝑚𝑢𝑒𝑠𝑡𝑟𝑎</th>\n",
       "      <th>𝑝𝑐𝑒𝑙𝑢𝑙𝑎𝑟</th>\n",
       "      <th>𝑝𝑒𝑟𝑠𝑜𝑛𝑎</th>\n",
       "      <th>𝑝𝑒𝑟𝑠𝑜𝑛𝑎𝑠</th>\n",
       "      <th>𝑝𝑓𝑖𝑗𝑜</th>\n",
       "      <th>𝑝𝑖</th>\n",
       "    </tr>\n",
       "  </thead>\n",
       "  <tbody>\n",
       "    <tr>\n",
       "      <th>0</th>\n",
       "      <td>0.0</td>\n",
       "      <td>0.0</td>\n",
       "      <td>0.0</td>\n",
       "      <td>0.0</td>\n",
       "      <td>0.0</td>\n",
       "      <td>0.0</td>\n",
       "      <td>0.0</td>\n",
       "      <td>0.0</td>\n",
       "      <td>0.0</td>\n",
       "      <td>0.0</td>\n",
       "      <td>...</td>\n",
       "      <td>0.0</td>\n",
       "      <td>0.0</td>\n",
       "      <td>0.0</td>\n",
       "      <td>0.0</td>\n",
       "      <td>0.0</td>\n",
       "      <td>0.0</td>\n",
       "      <td>0.0</td>\n",
       "      <td>0.0</td>\n",
       "      <td>0.0</td>\n",
       "      <td>0.0</td>\n",
       "    </tr>\n",
       "    <tr>\n",
       "      <th>1</th>\n",
       "      <td>0.0</td>\n",
       "      <td>0.0</td>\n",
       "      <td>0.0</td>\n",
       "      <td>0.0</td>\n",
       "      <td>0.0</td>\n",
       "      <td>0.0</td>\n",
       "      <td>0.0</td>\n",
       "      <td>0.0</td>\n",
       "      <td>0.0</td>\n",
       "      <td>0.0</td>\n",
       "      <td>...</td>\n",
       "      <td>0.0</td>\n",
       "      <td>0.0</td>\n",
       "      <td>0.0</td>\n",
       "      <td>0.0</td>\n",
       "      <td>0.0</td>\n",
       "      <td>0.0</td>\n",
       "      <td>0.0</td>\n",
       "      <td>0.0</td>\n",
       "      <td>0.0</td>\n",
       "      <td>0.0</td>\n",
       "    </tr>\n",
       "    <tr>\n",
       "      <th>2</th>\n",
       "      <td>0.0</td>\n",
       "      <td>0.0</td>\n",
       "      <td>0.0</td>\n",
       "      <td>0.0</td>\n",
       "      <td>0.0</td>\n",
       "      <td>0.0</td>\n",
       "      <td>0.0</td>\n",
       "      <td>0.0</td>\n",
       "      <td>0.0</td>\n",
       "      <td>0.0</td>\n",
       "      <td>...</td>\n",
       "      <td>0.0</td>\n",
       "      <td>0.0</td>\n",
       "      <td>0.0</td>\n",
       "      <td>0.0</td>\n",
       "      <td>0.0</td>\n",
       "      <td>0.0</td>\n",
       "      <td>0.0</td>\n",
       "      <td>0.0</td>\n",
       "      <td>0.0</td>\n",
       "      <td>0.0</td>\n",
       "    </tr>\n",
       "    <tr>\n",
       "      <th>3</th>\n",
       "      <td>0.0</td>\n",
       "      <td>0.0</td>\n",
       "      <td>0.0</td>\n",
       "      <td>0.0</td>\n",
       "      <td>0.0</td>\n",
       "      <td>0.0</td>\n",
       "      <td>0.0</td>\n",
       "      <td>0.0</td>\n",
       "      <td>0.0</td>\n",
       "      <td>0.0</td>\n",
       "      <td>...</td>\n",
       "      <td>0.0</td>\n",
       "      <td>0.0</td>\n",
       "      <td>0.0</td>\n",
       "      <td>0.0</td>\n",
       "      <td>0.0</td>\n",
       "      <td>0.0</td>\n",
       "      <td>0.0</td>\n",
       "      <td>0.0</td>\n",
       "      <td>0.0</td>\n",
       "      <td>0.0</td>\n",
       "    </tr>\n",
       "    <tr>\n",
       "      <th>4</th>\n",
       "      <td>0.0</td>\n",
       "      <td>0.0</td>\n",
       "      <td>0.0</td>\n",
       "      <td>0.0</td>\n",
       "      <td>0.0</td>\n",
       "      <td>0.0</td>\n",
       "      <td>0.0</td>\n",
       "      <td>0.0</td>\n",
       "      <td>0.0</td>\n",
       "      <td>0.0</td>\n",
       "      <td>...</td>\n",
       "      <td>0.0</td>\n",
       "      <td>0.0</td>\n",
       "      <td>0.0</td>\n",
       "      <td>0.0</td>\n",
       "      <td>0.0</td>\n",
       "      <td>0.0</td>\n",
       "      <td>0.0</td>\n",
       "      <td>0.0</td>\n",
       "      <td>0.0</td>\n",
       "      <td>0.0</td>\n",
       "    </tr>\n",
       "  </tbody>\n",
       "</table>\n",
       "<p>5 rows × 119615 columns</p>\n",
       "</div>"
      ],
      "text/plain": [
       "    aa  aaa  aaacpt  aaah  aaas  aac  aacsb  aacta  aademás  aage  ...  𝑓𝑖𝑗𝑜𝑠  \\\n",
       "0  0.0  0.0     0.0   0.0   0.0  0.0    0.0    0.0      0.0   0.0  ...    0.0   \n",
       "1  0.0  0.0     0.0   0.0   0.0  0.0    0.0    0.0      0.0   0.0  ...    0.0   \n",
       "2  0.0  0.0     0.0   0.0   0.0  0.0    0.0    0.0      0.0   0.0  ...    0.0   \n",
       "3  0.0  0.0     0.0   0.0   0.0  0.0    0.0    0.0      0.0   0.0  ...    0.0   \n",
       "4  0.0  0.0     0.0   0.0   0.0  0.0    0.0    0.0      0.0   0.0  ...    0.0   \n",
       "\n",
       "    𝑙𝑎  𝑚𝑎𝑟𝑐𝑜  𝑚𝑖𝑒𝑚𝑏𝑟𝑜𝑠  𝑚𝑢𝑒𝑠𝑡𝑟𝑎  𝑝𝑐𝑒𝑙𝑢𝑙𝑎𝑟  𝑝𝑒𝑟𝑠𝑜𝑛𝑎  𝑝𝑒𝑟𝑠𝑜𝑛𝑎𝑠  𝑝𝑓𝑖𝑗𝑜   𝑝𝑖  \n",
       "0  0.0    0.0       0.0      0.0       0.0      0.0       0.0    0.0  0.0  \n",
       "1  0.0    0.0       0.0      0.0       0.0      0.0       0.0    0.0  0.0  \n",
       "2  0.0    0.0       0.0      0.0       0.0      0.0       0.0    0.0  0.0  \n",
       "3  0.0    0.0       0.0      0.0       0.0      0.0       0.0    0.0  0.0  \n",
       "4  0.0    0.0       0.0      0.0       0.0      0.0       0.0    0.0  0.0  \n",
       "\n",
       "[5 rows x 119615 columns]"
      ]
     },
     "execution_count": 7,
     "metadata": {},
     "output_type": "execute_result"
    }
   ],
   "source": [
    "# Unir los tokens en una sola cadena de texto para cada documento\n",
    "data['texto_sin_stopwords'] = data['tokens_sin_stopwords'].apply(lambda tokens: ' '.join(tokens))\n",
    "\n",
    "# Calcular TF-IDF\n",
    "tfidf_vectorizer = TfidfVectorizer()\n",
    "tfidf_matrix = tfidf_vectorizer.fit_transform(data['texto_sin_stopwords'])\n",
    "\n",
    "# Convertir la matriz TF-IDF a un DataFrame\n",
    "tfidf_df = pd.DataFrame(tfidf_matrix.toarray(), columns=tfidf_vectorizer.get_feature_names_out())\n",
    "\n",
    "# Mostrar una vista previa de la matriz TF-IDF\n",
    "tfidf_df.head()"
   ]
  },
  {
   "cell_type": "markdown",
   "metadata": {},
   "source": [
    "### ¿Qué ganamos con TF-IDF?\n",
    "\n",
    "    Frecuencia de término (TF): Mide la frecuencia de una palabra en un documento. Si una palabra aparece muchas veces en un documento, es probable que sea importante para ese documento.\n",
    "    Frecuencia inversa de documento (IDF): Mide la rareza de una palabra en un corpus. Si una palabra es común en muchos documentos, es menos informativa que una palabra rara.\n",
    "\n",
    "La fórmula de TF-IDF es:\n",
    "\n",
    "TF-IDF(t,d) = TF(t,d) x IDF(t)\n",
    "\n",
    "Donde:\n",
    "\n",
    " TF(t,d) es la frecuencia de la palabra t en el documento d.\n",
    " IDF(t) es la frecuencia inversa de documento de la palabra en el corpus.\n",
    "\n",
    "pero, que fue lo que hicimos, en resumen, con TF-IDF, convertimos el texto en vectores numéricos que representan la importancia de las palabras en el texto."
   ]
  },
  {
   "cell_type": "code",
   "execution_count": 8,
   "metadata": {},
   "outputs": [
    {
     "name": "stdout",
     "output_type": "stream",
     "text": [
      "En este ejemplo particular tomamos el contenido:\n",
      "\n",
      "las autoridades están buscando al conductor de una moto que le lanzó el casco a\n",
      "carlos alberto carmona operador de grúa de la empresa segrup quien perdió por una hora\n",
      "el conocimiento tras la agresión en un video quedó registrado el momento en el que\n",
      "tanto el trabajador de la empresa como el motociclista se encuentran discutiendo cerca de la\n",
      "avenida villavicencio con gaitán cortés en el acalorado encuentro verbal ambos amagan con golpearse con\n",
      "los objetos que tienen en sus manos entonces el conductor de la moto arroja su\n",
      "casco contra el operador el hombre recibe el impacto en su cara por lo que\n",
      "s e desgonza y en la caída se golpea la cabeza con la grúa que\n",
      "conduce el agredido perdió el conocimiento por cerca de una hora en ese instante el\n",
      "agresor se retira caminando del lugar y en repetidas ocasiones mira para atrás en donde\n",
      "está el operador en el suelo luego su compañero agarra la moto y huye del\n",
      "lugar y a pocos metros recoge al agresor las autoridades buscan al hombre que conducía\n",
      "la moto jto c marca pulsar color verde para que responda por la agresión que\n",
      "le generó al trabajador de años de edad hacias las de la mañana de este\n",
      "sábado la secretaría de movilidad a través de su cuenta de twitter rechazó este hecho\n",
      "mientras que la empresa operadora instaurará una denuncia penal por este hecho para que se\n",
      "realice una investigación bogotá valle del cauca pm se han recogido cerca de mil mercados\n",
      "en donatón valle solidario la meta es llegar a mil mercados personas del común y\n",
      "empresas se coronavirus en colombia pm cuarentena en medellín el diario de lo que pasa\n",
      "en la ciudad el miércoles de marzo comenzó el aislamiento obligatorio para evita gabriel garcía\n",
      "márquez pm falleció el mago dávila primer linotipista que tuvo garcía márquez barranquilla pm alias\n",
      "el satánico busca la libertad por vencimiento de términos santander pm hombre murió en un\n",
      "parque sin saber que estaba contagiado de covid \n",
      "\n",
      "Y lo convertimos en un vector TF-IDF de 119615 dimensiones:\n",
      "\n",
      "aa          0.0\n",
      "aaa         0.0\n",
      "aaacpt      0.0\n",
      "aaah        0.0\n",
      "aaas        0.0\n",
      "           ... \n",
      "𝑝𝑐𝑒𝑙𝑢𝑙𝑎𝑟    0.0\n",
      "𝑝𝑒𝑟𝑠𝑜𝑛𝑎     0.0\n",
      "𝑝𝑒𝑟𝑠𝑜𝑛𝑎𝑠    0.0\n",
      "𝑝𝑓𝑖𝑗𝑜       0.0\n",
      "𝑝𝑖          0.0\n",
      "Name: 0, Length: 119615, dtype: float64.\n",
      "\n",
      "\n",
      "Acabamos de convertir un documento de texto en un vector numérico que puede ser\n",
      "utilizado en algoritmos de aprendizaje automático. Ese vector representa la importancia \n",
      "de cada palabra en el documento original y nos permite usar por ejemplo:\n",
      "\n",
      "- ACP para reducir la dimensionalidad del vector.\n",
      "- Clustering para agrupar documentos similares.\n",
      "- Clasificación para predecir la categoría de un documento.\n",
      "- Recuperación de información para encontrar documentos similares.\n",
      "\n",
      "\n"
     ]
    }
   ],
   "source": [
    "# Información adicional\n",
    "lista_contenido= data['contenido_preprocesado'][0].split()\n",
    "# Incluimos \\n cada 15 palabras para mejorar la legibilidad\n",
    "\n",
    "lista_contenido= [f\"{word} \" if (i+1)%15!=0 else f\"{word}\\n\" for i, word in enumerate(lista_contenido)]\n",
    "\n",
    "## Ahora convertimos la lista en un string\n",
    "\n",
    "contenido= ''.join(lista_contenido)\n",
    "\n",
    "text_info= f\"\"\"En este ejemplo particular tomamos el contenido:\n",
    "\n",
    "{contenido}\n",
    "\n",
    "Y lo convertimos en un vector TF-IDF de {tfidf_df.shape[1]} dimensiones:\n",
    "\n",
    "{tfidf_df.iloc[0]}.\n",
    "\n",
    "\n",
    "Acabamos de convertir un documento de texto en un vector numérico que puede ser\n",
    "utilizado en algoritmos de aprendizaje automático. Ese vector representa la importancia \n",
    "de cada palabra en el documento original y nos permite usar por ejemplo:\n",
    "\n",
    "- ACP para reducir la dimensionalidad del vector.\n",
    "- Clustering para agrupar documentos similares.\n",
    "- Clasificación para predecir la categoría de un documento.\n",
    "- Recuperación de información para encontrar documentos similares.\n",
    "\n",
    "\"\"\"\n",
    "\n",
    "print(text_info)"
   ]
  },
  {
   "cell_type": "markdown",
   "metadata": {},
   "source": [
    "### Paso 5: Generación de Embeddings de Palabras con Word2Vec\n",
    "\n",
    "En este paso, utilizaremos el modelo Word2Vec para generar embeddings de palabras. Los embeddings de palabras son representaciones vectoriales densas que capturan el significado semántico de las palabras.\n"
   ]
  },
  {
   "cell_type": "code",
   "execution_count": 9,
   "metadata": {},
   "outputs": [
    {
     "name": "stdout",
     "output_type": "stream",
     "text": [
      "Embedding de la palabra \"noticia\":\n",
      "[-1.31056726e+00 -7.46495306e-01 -1.18376780e+00 -1.30730480e-01\n",
      " -8.33611488e-01 -2.25835419e+00  1.82665244e-01  1.12953293e+00\n",
      " -1.28185332e+00 -6.08308434e-01  4.22635347e-01  6.10287666e-01\n",
      "  2.12030530e-01 -7.74934411e-01  1.50172204e-01 -4.16297942e-01\n",
      " -2.66305894e-01 -1.40289411e-01 -1.67829003e-02 -7.70558894e-01\n",
      "  1.00676632e+00  9.16316569e-01 -4.17750239e-01 -3.48469131e-02\n",
      " -1.80827960e-01  4.60957229e-01 -2.18150163e+00 -4.83414769e-01\n",
      "  3.47366691e-01  2.41968378e-01 -5.08498490e-01  1.41886687e+00\n",
      " -1.72836974e-01 -5.14096856e-01  3.67626250e-02  2.49720052e-01\n",
      " -4.25833732e-01  4.96109337e-01 -8.18888009e-01 -7.42297888e-01\n",
      " -2.69761413e-01 -2.82609940e-01  4.86920983e-01 -1.23521134e-01\n",
      "  9.73258615e-01  1.15416825e-01  8.62096906e-01  2.75215209e-01\n",
      "  4.39062446e-01  1.13804927e-02  1.79105565e-01  3.83855134e-01\n",
      "  5.41779518e-01 -3.35215598e-01  7.22727999e-02 -4.48827118e-01\n",
      "  1.08529508e+00  7.84193128e-02  1.16040957e+00  1.60842431e+00\n",
      "  4.68575001e-01  2.50982642e-01 -3.13180953e-01 -8.51386905e-01\n",
      "  4.42973197e-01  8.22651744e-01  6.82397604e-01 -1.74397342e-02\n",
      " -6.07846141e-01 -6.04098998e-02 -9.77207780e-01 -1.78502142e-01\n",
      "  8.35510716e-03 -6.68885708e-01  1.00315407e-01  4.74912703e-01\n",
      "  5.01724660e-01  6.05694950e-01 -1.67101130e-01 -6.48018956e-01\n",
      " -1.15428555e+00  9.44315553e-01  5.57549119e-01 -6.52370451e-04\n",
      "  1.04314677e-01 -2.49679908e-01 -5.69177508e-01  3.47541332e-01\n",
      "  6.12989068e-01  4.21531826e-01  2.66754013e-02 -1.19486070e+00\n",
      " -6.01783037e-01  1.70354939e+00  3.31402123e-01  1.00246704e+00\n",
      "  7.79584050e-01 -9.32401836e-01 -3.54084283e-01  6.22721672e-01]\n"
     ]
    }
   ],
   "source": [
    "# Entrenar el modelo Word2Vec\n",
    "word2vec_model = Word2Vec(sentences=data['tokens_sin_stopwords'], vector_size=100, window=5, min_count=1, workers=4)\n",
    "\n",
    "# Obtener los embeddings de una palabra ejemplo\n",
    "word_example = 'noticia'\n",
    "if word_example in word2vec_model.wv:\n",
    "    embedding_example = word2vec_model.wv[word_example]\n",
    "    print(f'Embedding de la palabra \"{word_example}\":\\n{embedding_example}')\n",
    "else:\n",
    "    print(f'La palabra \"{word_example}\" no está en el vocabulario del modelo Word2Vec.')\n",
    "\n",
    "# Guardar el modelo Word2Vec\n",
    "word2vec_model.save(\"../../Datos/Embeddings/word2vec.model\")"
   ]
  },
  {
   "cell_type": "markdown",
   "metadata": {},
   "source": [
    "### Guardar Resultados\n",
    "\n",
    "Finalmente, guardaremos los resultados preprocesados en un archivo CSV para su posterior uso."
   ]
  },
  {
   "cell_type": "code",
   "execution_count": 10,
   "metadata": {},
   "outputs": [],
   "source": [
    "# Guardar los resultados preprocesados\n",
    "data.to_csv('../../Datos/Datos Preprocesados/Noticias_preprocesadas_wrm.csv', index=False)"
   ]
  },
  {
   "cell_type": "markdown",
   "metadata": {},
   "source": [
    "### Ejercicio\n",
    "Ajuste Ejercicio\n",
    "\n",
    "Hemos creado dos modelos de vectorización de palabras, uno basado en TF-IDF y otro basado en Word2Vec. Su primera tarea es:\n",
    "\n",
    "    Eliminar las palabras vacías del texto.\n",
    "    Calcular la representación TF-IDF de los textos preprocesados.\n",
    "    Generar embeddings de palabras utilizando Word2Vec.\n",
    "\n",
    "Para la representación TF-IDF, utilice unigramas y bigramas con un rango de frecuencia de 0.1 a 0.9. Para Word2Vec, utilice un tamaño de ventana de 5 y un tamaño de vector de 100.\n",
    "\n",
    "Finalmente, guarde los resultados en un archivo CSV."
   ]
  },
  {
   "cell_type": "markdown",
   "metadata": {},
   "source": [
    "### Crear un Modelo Simple de ACP y Clustering\n",
    "Después de generar los vectores de palabras, su segunda tarea es crear un modelo simple de ACP (Análisis de Componentes Principales) y aplicar clustering a los vectores generados. Utilice el algoritmo KMeans con 5 clusters."
   ]
  },
  {
   "cell_type": "markdown",
   "metadata": {},
   "source": [
    "## PASOS:\n",
    "    1. Ajuste un modelo de ACP a los vectores generados.\n",
    "    2. Ajuste un modelo de KMeans con 5 clusters a los componentes principales.\n",
    "    3. Analice los resultados del clustering y determine si los clusters son significativos."
   ]
  },
  {
   "cell_type": "code",
   "execution_count": 11,
   "metadata": {},
   "outputs": [],
   "source": [
    "from sklearn.decomposition import PCA\n",
    "from sklearn.cluster import KMeans\n",
    "import matplotlib.pyplot as plt"
   ]
  },
  {
   "cell_type": "code",
   "execution_count": 12,
   "metadata": {},
   "outputs": [
    {
     "data": {
      "image/png": "[encoded data removed]",
      "text/plain": [
       "<Figure size 640x480 with 1 Axes>"
      ]
     },
     "metadata": {},
     "output_type": "display_data"
    },
    {
     "name": "stderr",
     "output_type": "stream",
     "text": [
      "Exception in thread Thread-29 (_readerthread):\n",
      "Traceback (most recent call last):\n",
      "  File \"c:\\Users\\wmoreno\\AppData\\Local\\anaconda3\\envs\\nlpean\\lib\\threading.py\", line 1016, in _bootstrap_inner\n",
      "    self.run()\n",
      "  File \"c:\\Users\\wmoreno\\AppData\\Local\\anaconda3\\envs\\nlpean\\lib\\site-packages\\ipykernel\\ipkernel.py\", line 766, in run_closure\n",
      "    _threading_Thread_run(self)\n",
      "  File \"c:\\Users\\wmoreno\\AppData\\Local\\anaconda3\\envs\\nlpean\\lib\\threading.py\", line 953, in run\n",
      "    self._target(*self._args, **self._kwargs)\n",
      "  File \"c:\\Users\\wmoreno\\AppData\\Local\\anaconda3\\envs\\nlpean\\lib\\subprocess.py\", line 1515, in _readerthread\n",
      "    buffer.append(fh.read())\n",
      "  File \"c:\\Users\\wmoreno\\AppData\\Local\\anaconda3\\envs\\nlpean\\lib\\codecs.py\", line 322, in decode\n",
      "    (result, consumed) = self._buffer_decode(data, self.errors, final)\n",
      "UnicodeDecodeError: 'utf-8' codec can't decode byte 0xa0 in position 16: invalid start byte\n",
      "c:\\Users\\wmoreno\\AppData\\Local\\anaconda3\\envs\\nlpean\\lib\\site-packages\\joblib\\externals\\loky\\backend\\context.py:136: UserWarning: Could not find the number of physical cores for the following reason:\n",
      "found 0 physical cores < 1\n",
      "Returning the number of logical cores instead. You can silence this warning by setting LOKY_MAX_CPU_COUNT to the number of cores you want to use.\n",
      "  warnings.warn(\n",
      "  File \"c:\\Users\\wmoreno\\AppData\\Local\\anaconda3\\envs\\nlpean\\lib\\site-packages\\joblib\\externals\\loky\\backend\\context.py\", line 282, in _count_physical_cores\n",
      "    raise ValueError(f\"found {cpu_count_physical} physical cores < 1\")\n"
     ]
    },
    {
     "data": {
      "image/png": "[encoded data removed]",
      "text/plain": [
       "<Figure size 640x480 with 1 Axes>"
      ]
     },
     "metadata": {},
     "output_type": "display_data"
    }
   ],
   "source": [
    "# Reducir la dimensionalidad de los vectores TF-IDF con PCA\n",
    "pca = PCA(n_components=2)\n",
    "pca_result = pca.fit_transform(tfidf_matrix.toarray())\n",
    "\n",
    "# Agregar los resultados de PCA a los datos\n",
    "# se agrega las columnas pca1 y pca2, que representan los resultados ACP aplicado a los vectores TF-IDF:\n",
    "data['pca1'] = pca_result[:, 0]\n",
    "data['pca2'] = pca_result[:, 1]\n",
    "\n",
    "# Visualizar los resultados de PCA\n",
    "plt.scatter(data['pca1'], data['pca2'])\n",
    "plt.xlabel('PCA 1')\n",
    "plt.ylabel('PCA 2')\n",
    "plt.show()\n",
    "\n",
    "# Aplicar clustering con KMeans\n",
    "# se utiliza el algoritmo KMeans con 5 clusters para agrupar los documentos\n",
    "kmeans = KMeans(n_clusters=5, random_state=42)\n",
    "data['cluster'] = kmeans.fit_predict(pca_result)\n",
    "\n",
    "# Visualizar los clusters\n",
    "plt.scatter(data['pca1'], data['pca2'], c=data['cluster'])\n",
    "plt.xlabel('PCA 1')\n",
    "plt.ylabel('PCA 2')\n",
    "plt.show()\n",
    "\n",
    "# Guardar los resultados con los clusters\n",
    "data.to_csv('../../Datos/Datos Preprocesados/Noticias_preprocesadas_wrm_clusters.csv', index=False)"
   ]
  },
  {
   "cell_type": "markdown",
   "metadata": {},
   "source": [
    "## Preguntas\n",
    "### 1. ¿Qué puede inferir de los clusters generados?\n",
    "Los clusters que se generan ayudan a proporcionar informacion relacionada con los temas importantes incluidos en los documentos. Con esto se puede llegar a identificar cual es el tema central tratado en cierto documento."
   ]
  },
  {
   "cell_type": "markdown",
   "metadata": {},
   "source": [
    "### 2. ¿Qué palabras son las más representativas de cada cluster?\n",
    "Para esta actividad podemos utilizar la media de la importancia TF-IDF de cada palabra en los documentos del cluster. Las palabras con la mayor media de importancia TF-IDF son las más representativas:"
   ]
  },
  {
   "cell_type": "code",
   "execution_count": null,
   "metadata": {},
   "outputs": [],
   "source": [
    "# Agregar la importancia TF-IDF de cada palabra a los datos\n",
    "tfidf_df = pd.DataFrame(tfidf_matrix.toarray(), columns=tfidf_vectorizer.get_feature_names_out())\n",
    "data = pd.concat([data, tfidf_df], axis=1)\n",
    "\n",
    "# Calcular la media de la importancia TF-IDF de cada palabra en cada cluster\n",
    "cluster_representative_words = data.groupby('cluster')[tfidf_df.columns].mean()\n",
    "\n",
    "# Mostrar las palabras más representativas de cada cluster\n",
    "for cluster, words in cluster_representative_words.iterrows():\n",
    "    print(f\"Cluster {cluster}:\")\n",
    "    print(words.nlargest(5))  # Imprimir las 5 palabras más representativas de cada cluster\n",
    "    print()"
   ]
  },
  {
   "cell_type": "markdown",
   "metadata": {},
   "source": [
    "### 3. ¿Qué palabras tienen los embeddings más similares?\n",
    "Utilizamos el modelo Word2Vec que usamos antes con los textos preprocesados"
   ]
  },
  {
   "cell_type": "code",
   "execution_count": 23,
   "metadata": {},
   "outputs": [
    {
     "name": "stdout",
     "output_type": "stream",
     "text": [
      "Palabras más similares a 'autoridades':\n",
      "agentes: 0.78\n",
      "uniformados: 0.74\n",
      "policías: 0.73\n",
      "hechos: 0.73\n",
      "policía: 0.73\n",
      "investigaciones: 0.73\n",
      "amenazas: 0.72\n",
      "esclarecer: 0.72\n",
      "indagaciones: 0.71\n",
      "reportes: 0.71\n"
     ]
    }
   ],
   "source": [
    "# Entrenar el modelo Word2Vec con los textos preprocesados\n",
    "model = Word2Vec(data['tokens_sin_stopwords'], min_count=1, vector_size=100, window=5)\n",
    "\n",
    "# Función para encontrar las palabras más similares a una palabra dada\n",
    "def find_similar_words(word):\n",
    "    similar_words = model.wv.most_similar(word)\n",
    "    return similar_words\n",
    "\n",
    "# Ejemplo de uso\n",
    "word = 'autoridades'\n",
    "similar_words = find_similar_words(word)\n",
    "print(f\"Palabras más similares a '{word}':\")\n",
    "for similar_word, similarity in similar_words:\n",
    "    print(f\"{similar_word}: {similarity:.2f}\")"
   ]
  }
 ],
 "metadata": {
  "kernelspec": {
   "display_name": "nlpean",
   "language": "python",
   "name": "python3"
  },
  "language_info": {
   "codemirror_mode": {
    "name": "ipython",
    "version": 3
   },
   "file_extension": ".py",
   "mimetype": "text/x-python",
   "name": "python",
   "nbconvert_exporter": "python",
   "pygments_lexer": "ipython3",
   "version": "3.10.15"
  }
 },
 "nbformat": 4,
 "nbformat_minor": 2
}
